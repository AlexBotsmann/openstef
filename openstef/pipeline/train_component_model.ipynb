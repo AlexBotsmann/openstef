{
 "cells": [
  {
   "cell_type": "markdown",
   "id": "64765210",
   "metadata": {},
   "source": [
    "## Load and Store BetterDazls model"
   ]
  },
  {
   "cell_type": "markdown",
   "id": "69f0a54a",
   "metadata": {},
   "source": [
    "We used this code to load and store the dazls model into a .sav file.\n",
    "\n",
    "We used it in openstef for the components forecast in the file: create_component_forecast, function: create_components_forecast_pipeline"
   ]
  },
  {
   "cell_type": "code",
   "execution_count": null,
   "id": "8ed44aa2",
   "metadata": {},
   "outputs": [],
   "source": [
    "import pandas as pd\n",
    "import os\n",
    "import joblib\n",
    "import glob\n",
    "from openstef.model.regressors.better_dazls import BetterDazls\n",
    "\n",
    "\n",
    "path = \"C:\\\\Users\\\\AL25802\\\\new energy splitting\"\n",
    "folder = ['\\\\prep_data\\\\']\n",
    "combined_data = []\n",
    "station_name = []\n",
    "\n",
    "\n",
    "# Read prepared data\n",
    "for file_name in glob.glob(path + folder[0] + '*.csv'):\n",
    "    x = pd.read_csv(file_name, low_memory=False, parse_dates=[\"datetime\"])\n",
    "    x[\"datetime\"] = pd.to_datetime(x[\"datetime\"])\n",
    "    x = x.set_index('datetime')\n",
    "    x.columns=[x.lower() for x in x.columns]\n",
    "    combined_data.append(x)\n",
    "    sn = os.path.basename(file_name)\n",
    "    station_name.append(sn[:len(sn) - 4])\n",
    "\n",
    "\n",
    "# Split data in train and test (the first substation is being used for the testing)\n",
    "training_data = pd.concat(combined_data[1:])\n",
    "test_data = combined_data[0]\n",
    "target_columns =['total_solar_part', 'total_wind_part']\n",
    "feature_columns = [x for x in test_data.columns if x not in target_columns]\n",
    "print('Testing station:',station_name[0])\n",
    "\n",
    "# Initialize DAZLS model\n",
    "model = BetterDazls()\n",
    "# Fit model\n",
    "model.fit(training_data.loc[:,feature_columns], training_data.loc[:,target_columns])\n",
    "\n",
    "# Load and store the model\n",
    "filename = 'better_dazls_stored.sav'\n",
    "joblib.dump(model, filename)"
   ]
  }
 ],
 "metadata": {
  "kernelspec": {
   "display_name": "Python 3 (ipykernel)",
   "language": "python",
   "name": "python3"
  },
  "language_info": {
   "codemirror_mode": {
    "name": "ipython",
    "version": 3
   },
   "file_extension": ".py",
   "mimetype": "text/x-python",
   "name": "python",
   "nbconvert_exporter": "python",
   "pygments_lexer": "ipython3",
   "version": "3.9.12"
  }
 },
 "nbformat": 4,
 "nbformat_minor": 5
}
