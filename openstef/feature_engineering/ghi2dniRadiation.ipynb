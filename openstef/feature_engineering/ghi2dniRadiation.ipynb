{
 "cells": [
  {
   "cell_type": "markdown",
   "id": "5d4a4d9a-3a43-46dd-881b-eb4b786eb56a",
   "metadata": {},
   "source": [
    "# Script to convert the (forecasted) ghi radiation to dni radiation\n",
    "# & script to calculate the GlobalTiltedIrradiance\n",
    "\n"
   ]
  },
  {
   "cell_type": "markdown",
   "id": "6d2224bc-4c5b-4c14-862b-e3b36d107848",
   "metadata": {
    "jp-MarkdownHeadingCollapsed": true,
    "tags": []
   },
   "source": [
    "## Import packages and mock data"
   ]
  },
  {
   "cell_type": "code",
   "execution_count": 1,
   "id": "890485a5-fff4-4b78-a924-ed96c3a8e168",
   "metadata": {},
   "outputs": [
    {
     "data": {
      "text/html": [
       "        <script type=\"text/javascript\">\n",
       "        window.PlotlyConfig = {MathJaxConfig: 'local'};\n",
       "        if (window.MathJax && window.MathJax.Hub && window.MathJax.Hub.Config) {window.MathJax.Hub.Config({SVG: {font: \"STIX-Web\"}});}\n",
       "        if (typeof require !== 'undefined') {\n",
       "        require.undef(\"plotly\");\n",
       "        requirejs.config({\n",
       "            paths: {\n",
       "                'plotly': ['https://cdn.plot.ly/plotly-2.12.1.min']\n",
       "            }\n",
       "        });\n",
       "        require(['plotly'], function(Plotly) {\n",
       "            window._Plotly = Plotly;\n",
       "        });\n",
       "        }\n",
       "        </script>\n",
       "        "
      ]
     },
     "metadata": {},
     "output_type": "display_data"
    }
   ],
   "source": [
    "# packages\n",
    "import pvlib\n",
    "from pvlib.location import Location\n",
    "\n",
    "import pandas as pd\n",
    "\n",
    "import numpy as np\n",
    "\n",
    "import matplotlib.pyplot as plt\n",
    "import cufflinks\n",
    "cufflinks.go_offline()\n",
    "\n"
   ]
  },
  {
   "cell_type": "code",
   "execution_count": 2,
   "id": "60441904-1b50-445a-87c3-8ac7a32f16cb",
   "metadata": {},
   "outputs": [],
   "source": [
    "# Load one day of forcasted ghi (joule/m^2) Oosterwolde (snippit of a day 2020-06-09)\n",
    "# convert data (Joule/m^2 to kWh/m^2)\n",
    "\n",
    "ghi =np.array([81000,\n",
    "    74700,\n",
    "    68400,\n",
    "    62700,\n",
    "    57000,\n",
    "    51300,\n",
    "    45600,\n",
    "    39900,\n",
    "    34200,\n",
    "    28500,\n",
    "    22800,\n",
    "    17100,\n",
    "    11400,\n",
    "    5700,\n",
    "    0,\n",
    "    18300,\n",
    "    36600,\n",
    "    54900,\n",
    "    73200,\n",
    "    91500,\n",
    "    109800,\n",
    "    128100,\n",
    "    146400,\n",
    "    164700,\n",
    "    183000,\n",
    "    201300,\n",
    "    219600,\n",
    "    321300,\n",
    "    423000,\n",
    "    524700,\n",
    "    626400,\n",
    "    728100,\n",
    "    829800,\n",
    "    931500,\n",
    "    1033200,\n",
    "    1134900,\n",
    "    1236600,\n",
    "    1338300,\n",
    "    1440000,\n",
    "    1320000,\n",
    "    1200000,\n",
    "    1080000,\n",
    "    960000,\n",
    "    840000,\n",
    "    720000,\n",
    "    600000,\n",
    "    480000,\n",
    "    360000,\n",
    "    240000,\n",
    "    120000,\n",
    "    0,\n",
    "    153000,\n",
    "    306000,\n",
    "    459000,\n",
    "    612000,\n",
    "    765000,\n",
    "    918000,\n",
    "    1071000,\n",
    "    1224000,\n",
    "    1377000,\n",
    "    1530000,\n",
    "    1683000,\n",
    "    1836000,\n",
    "    1815300,\n",
    "    1794600,\n",
    "    1773900,\n",
    "    1753200,\n",
    "    1732500,\n",
    "    1711800,\n",
    "    1691100,\n",
    "    1670400,\n",
    "    1649700,\n",
    "    1629000,\n",
    "    1608300,\n",
    "    1587600,\n",
    "    1467300,\n",
    "    1347000,\n",
    "    1226700,\n",
    "    1106400,\n",
    "    986100,\n",
    "    865800,\n",
    "    745500,\n",
    "    625200,\n",
    "    504900,\n",
    "    384600,\n",
    "    264300,\n",
    "    144000,\n",
    "    132000,\n",
    "    120000,\n",
    "    108000,\n",
    "    96000,\n",
    "    84000,\n",
    "    72000,\n",
    "    60000,\n",
    "    48000,\n",
    "    36000])\n",
    "\n",
    "ghi = ghi/3600 #J/m^2 to kWh/m^2"
   ]
  },
  {
   "cell_type": "markdown",
   "id": "25ad7586-a337-4ba0-aae2-04cc1b221f51",
   "metadata": {},
   "source": [
    "## converter from GHI (radiation) to dni\n"
   ]
  },
  {
   "cell_type": "code",
   "execution_count": 3,
   "id": "cb1f7ff1-0002-4799-86f6-98e23acaf0dc",
   "metadata": {},
   "outputs": [],
   "source": [
    "def ghi2dni(ghi_forecasted,loc):\n",
    "    \n",
    "    times = ghi_forecasted.index\n",
    "    # calculate data for loc(ation) at times with clear_sky\n",
    "    cs = loc.get_clearsky(times)\n",
    "    dhi_calc = cs.dhi\n",
    "    dni_calc = cs.dni\n",
    "    ghi_calc = cs.ghi\n",
    "\n",
    "    # get solar position variable(s) for loc(ation) at times\n",
    "    solpos = pvlib.solarposition.get_solarposition(times, loc.latitude, loc.longitude)\n",
    "    solar_zenith = solpos.apparent_zenith\n",
    "\n",
    "    # convert ghi to dni \n",
    "    dni_converted = pvlib.irradiance.dni(ghi_forecasted, dhi_calc, solar_zenith, clearsky_dni=dni_calc)\n",
    "    return dni_converted"
   ]
  },
  {
   "cell_type": "code",
   "execution_count": 4,
   "id": "2c7683e0-ff85-476b-8693-3d74c164f0f6",
   "metadata": {},
   "outputs": [],
   "source": [
    "lon = 52.98749605 \n",
    "lat = 6.288165514\n",
    "\n",
    "loc = Location(lat, lon, tz='CET', altitude=0, name='Oosterwolde')\n",
    "\n",
    "times =pd.date_range(start = \"2020-06-09 00:00:00\",end = \"2020-06-09 23:45:00\",freq='15min',tz='Europe/Amsterdam')\n",
    "radiation = pd.DataFrame({'ghi_forecasted': ghi},\n",
    "                        index=times)"
   ]
  },
  {
   "cell_type": "code",
   "execution_count": 5,
   "id": "142a85c7-5eae-4267-b8d7-794c1155ea35",
   "metadata": {},
   "outputs": [],
   "source": [
    "dni_converted = ghi2dni(radiation['ghi_forecasted'],loc)\n"
   ]
  },
  {
   "cell_type": "code",
   "execution_count": 6,
   "id": "af688987-2145-4173-9a30-149dd7518d63",
   "metadata": {},
   "outputs": [
    {
     "data": {
      "application/vnd.plotly.v1+json": {
       "config": {
        "linkText": "Export to plot.ly",
        "plotlyServerURL": "https://plot.ly",
        "showLink": true
       },
       "data": [
        {
         "line": {
          "color": "rgba(255, 153, 51, 1.0)",
          "dash": "solid",
          "shape": "linear",
          "width": 1.3
         },
         "mode": "lines",
         "name": "ghi_forecasted",
         "text": "",
         "type": "scatter",
         "x": [
          "2020-06-09 00:00:00+02:00",
          "2020-06-09 00:15:00+02:00",
          "2020-06-09 00:30:00+02:00",
          "2020-06-09 00:45:00+02:00",
          "2020-06-09 01:00:00+02:00",
          "2020-06-09 01:15:00+02:00",
          "2020-06-09 01:30:00+02:00",
          "2020-06-09 01:45:00+02:00",
          "2020-06-09 02:00:00+02:00",
          "2020-06-09 02:15:00+02:00",
          "2020-06-09 02:30:00+02:00",
          "2020-06-09 02:45:00+02:00",
          "2020-06-09 03:00:00+02:00",
          "2020-06-09 03:15:00+02:00",
          "2020-06-09 03:30:00+02:00",
          "2020-06-09 03:45:00+02:00",
          "2020-06-09 04:00:00+02:00",
          "2020-06-09 04:15:00+02:00",
          "2020-06-09 04:30:00+02:00",
          "2020-06-09 04:45:00+02:00",
          "2020-06-09 05:00:00+02:00",
          "2020-06-09 05:15:00+02:00",
          "2020-06-09 05:30:00+02:00",
          "2020-06-09 05:45:00+02:00",
          "2020-06-09 06:00:00+02:00",
          "2020-06-09 06:15:00+02:00",
          "2020-06-09 06:30:00+02:00",
          "2020-06-09 06:45:00+02:00",
          "2020-06-09 07:00:00+02:00",
          "2020-06-09 07:15:00+02:00",
          "2020-06-09 07:30:00+02:00",
          "2020-06-09 07:45:00+02:00",
          "2020-06-09 08:00:00+02:00",
          "2020-06-09 08:15:00+02:00",
          "2020-06-09 08:30:00+02:00",
          "2020-06-09 08:45:00+02:00",
          "2020-06-09 09:00:00+02:00",
          "2020-06-09 09:15:00+02:00",
          "2020-06-09 09:30:00+02:00",
          "2020-06-09 09:45:00+02:00",
          "2020-06-09 10:00:00+02:00",
          "2020-06-09 10:15:00+02:00",
          "2020-06-09 10:30:00+02:00",
          "2020-06-09 10:45:00+02:00",
          "2020-06-09 11:00:00+02:00",
          "2020-06-09 11:15:00+02:00",
          "2020-06-09 11:30:00+02:00",
          "2020-06-09 11:45:00+02:00",
          "2020-06-09 12:00:00+02:00",
          "2020-06-09 12:15:00+02:00",
          "2020-06-09 12:30:00+02:00",
          "2020-06-09 12:45:00+02:00",
          "2020-06-09 13:00:00+02:00",
          "2020-06-09 13:15:00+02:00",
          "2020-06-09 13:30:00+02:00",
          "2020-06-09 13:45:00+02:00",
          "2020-06-09 14:00:00+02:00",
          "2020-06-09 14:15:00+02:00",
          "2020-06-09 14:30:00+02:00",
          "2020-06-09 14:45:00+02:00",
          "2020-06-09 15:00:00+02:00",
          "2020-06-09 15:15:00+02:00",
          "2020-06-09 15:30:00+02:00",
          "2020-06-09 15:45:00+02:00",
          "2020-06-09 16:00:00+02:00",
          "2020-06-09 16:15:00+02:00",
          "2020-06-09 16:30:00+02:00",
          "2020-06-09 16:45:00+02:00",
          "2020-06-09 17:00:00+02:00",
          "2020-06-09 17:15:00+02:00",
          "2020-06-09 17:30:00+02:00",
          "2020-06-09 17:45:00+02:00",
          "2020-06-09 18:00:00+02:00",
          "2020-06-09 18:15:00+02:00",
          "2020-06-09 18:30:00+02:00",
          "2020-06-09 18:45:00+02:00",
          "2020-06-09 19:00:00+02:00",
          "2020-06-09 19:15:00+02:00",
          "2020-06-09 19:30:00+02:00",
          "2020-06-09 19:45:00+02:00",
          "2020-06-09 20:00:00+02:00",
          "2020-06-09 20:15:00+02:00",
          "2020-06-09 20:30:00+02:00",
          "2020-06-09 20:45:00+02:00",
          "2020-06-09 21:00:00+02:00",
          "2020-06-09 21:15:00+02:00",
          "2020-06-09 21:30:00+02:00",
          "2020-06-09 21:45:00+02:00",
          "2020-06-09 22:00:00+02:00",
          "2020-06-09 22:15:00+02:00",
          "2020-06-09 22:30:00+02:00",
          "2020-06-09 22:45:00+02:00",
          "2020-06-09 23:00:00+02:00",
          "2020-06-09 23:15:00+02:00",
          "2020-06-09 23:30:00+02:00",
          "2020-06-09 23:45:00+02:00"
         ],
         "y": [
          22.5,
          20.75,
          19,
          17.416666666666668,
          15.833333333333334,
          14.25,
          12.666666666666666,
          11.083333333333334,
          9.5,
          7.916666666666667,
          6.333333333333333,
          4.75,
          3.1666666666666665,
          1.5833333333333333,
          0,
          5.083333333333333,
          10.166666666666666,
          15.25,
          20.333333333333332,
          25.416666666666668,
          30.5,
          35.583333333333336,
          40.666666666666664,
          45.75,
          50.833333333333336,
          55.916666666666664,
          61,
          89.25,
          117.5,
          145.75,
          174,
          202.25,
          230.5,
          258.75,
          287,
          315.25,
          343.5,
          371.75,
          400,
          366.6666666666667,
          333.3333333333333,
          300,
          266.6666666666667,
          233.33333333333334,
          200,
          166.66666666666666,
          133.33333333333334,
          100,
          66.66666666666667,
          33.333333333333336,
          0,
          42.5,
          85,
          127.5,
          170,
          212.5,
          255,
          297.5,
          340,
          382.5,
          425,
          467.5,
          510,
          504.25,
          498.5,
          492.75,
          487,
          481.25,
          475.5,
          469.75,
          464,
          458.25,
          452.5,
          446.75,
          441,
          407.5833333333333,
          374.1666666666667,
          340.75,
          307.3333333333333,
          273.9166666666667,
          240.5,
          207.08333333333334,
          173.66666666666666,
          140.25,
          106.83333333333333,
          73.41666666666667,
          40,
          36.666666666666664,
          33.333333333333336,
          30,
          26.666666666666668,
          23.333333333333332,
          20,
          16.666666666666668,
          13.333333333333334,
          10
         ]
        },
        {
         "line": {
          "color": "rgba(55, 128, 191, 1.0)",
          "dash": "solid",
          "shape": "linear",
          "width": 1.3
         },
         "mode": "lines",
         "name": "dni_converted",
         "text": "",
         "type": "scatter",
         "x": [
          "2020-06-09 00:00:00+02:00",
          "2020-06-09 00:15:00+02:00",
          "2020-06-09 00:30:00+02:00",
          "2020-06-09 00:45:00+02:00",
          "2020-06-09 01:00:00+02:00",
          "2020-06-09 01:15:00+02:00",
          "2020-06-09 01:30:00+02:00",
          "2020-06-09 01:45:00+02:00",
          "2020-06-09 02:00:00+02:00",
          "2020-06-09 02:15:00+02:00",
          "2020-06-09 02:30:00+02:00",
          "2020-06-09 02:45:00+02:00",
          "2020-06-09 03:00:00+02:00",
          "2020-06-09 03:15:00+02:00",
          "2020-06-09 03:30:00+02:00",
          "2020-06-09 03:45:00+02:00",
          "2020-06-09 04:00:00+02:00",
          "2020-06-09 04:15:00+02:00",
          "2020-06-09 04:30:00+02:00",
          "2020-06-09 04:45:00+02:00",
          "2020-06-09 05:00:00+02:00",
          "2020-06-09 05:15:00+02:00",
          "2020-06-09 05:30:00+02:00",
          "2020-06-09 05:45:00+02:00",
          "2020-06-09 06:00:00+02:00",
          "2020-06-09 06:15:00+02:00",
          "2020-06-09 06:30:00+02:00",
          "2020-06-09 06:45:00+02:00",
          "2020-06-09 07:00:00+02:00",
          "2020-06-09 07:15:00+02:00",
          "2020-06-09 07:30:00+02:00",
          "2020-06-09 07:45:00+02:00",
          "2020-06-09 08:00:00+02:00",
          "2020-06-09 08:15:00+02:00",
          "2020-06-09 08:30:00+02:00",
          "2020-06-09 08:45:00+02:00",
          "2020-06-09 09:00:00+02:00",
          "2020-06-09 09:15:00+02:00",
          "2020-06-09 09:30:00+02:00",
          "2020-06-09 09:45:00+02:00",
          "2020-06-09 10:00:00+02:00",
          "2020-06-09 10:15:00+02:00",
          "2020-06-09 10:30:00+02:00",
          "2020-06-09 10:45:00+02:00",
          "2020-06-09 11:00:00+02:00",
          "2020-06-09 11:15:00+02:00",
          "2020-06-09 11:30:00+02:00",
          "2020-06-09 11:45:00+02:00",
          "2020-06-09 12:00:00+02:00",
          "2020-06-09 12:15:00+02:00",
          "2020-06-09 12:30:00+02:00",
          "2020-06-09 12:45:00+02:00",
          "2020-06-09 13:00:00+02:00",
          "2020-06-09 13:15:00+02:00",
          "2020-06-09 13:30:00+02:00",
          "2020-06-09 13:45:00+02:00",
          "2020-06-09 14:00:00+02:00",
          "2020-06-09 14:15:00+02:00",
          "2020-06-09 14:30:00+02:00",
          "2020-06-09 14:45:00+02:00",
          "2020-06-09 15:00:00+02:00",
          "2020-06-09 15:15:00+02:00",
          "2020-06-09 15:30:00+02:00",
          "2020-06-09 15:45:00+02:00",
          "2020-06-09 16:00:00+02:00",
          "2020-06-09 16:15:00+02:00",
          "2020-06-09 16:30:00+02:00",
          "2020-06-09 16:45:00+02:00",
          "2020-06-09 17:00:00+02:00",
          "2020-06-09 17:15:00+02:00",
          "2020-06-09 17:30:00+02:00",
          "2020-06-09 17:45:00+02:00",
          "2020-06-09 18:00:00+02:00",
          "2020-06-09 18:15:00+02:00",
          "2020-06-09 18:30:00+02:00",
          "2020-06-09 18:45:00+02:00",
          "2020-06-09 19:00:00+02:00",
          "2020-06-09 19:15:00+02:00",
          "2020-06-09 19:30:00+02:00",
          "2020-06-09 19:45:00+02:00",
          "2020-06-09 20:00:00+02:00",
          "2020-06-09 20:15:00+02:00",
          "2020-06-09 20:30:00+02:00",
          "2020-06-09 20:45:00+02:00",
          "2020-06-09 21:00:00+02:00",
          "2020-06-09 21:15:00+02:00",
          "2020-06-09 21:30:00+02:00",
          "2020-06-09 21:45:00+02:00",
          "2020-06-09 22:00:00+02:00",
          "2020-06-09 22:15:00+02:00",
          "2020-06-09 22:30:00+02:00",
          "2020-06-09 22:45:00+02:00",
          "2020-06-09 23:00:00+02:00",
          "2020-06-09 23:15:00+02:00",
          "2020-06-09 23:30:00+02:00",
          "2020-06-09 23:45:00+02:00"
         ],
         "y": [
          "",
          "",
          "",
          "",
          "",
          "",
          "",
          "",
          "",
          "",
          "",
          "",
          "",
          "",
          0,
          "",
          "",
          "",
          32.5165767106276,
          13.365925723292024,
          "",
          "",
          "",
          "",
          "",
          "",
          "",
          "",
          13.349056593759949,
          48.900124762710355,
          80.73357432477955,
          109.80866729787215,
          136.86130313154007,
          162.4739115090247,
          187.12216550218324,
          211.20735352410972,
          235.07965569147186,
          259.05557813968267,
          283.4316320374957,
          243.14287021991734,
          205.0768335935518,
          168.71644389651533,
          133.5937413015281,
          99.27289997584869,
          65.33521122827761,
          31.364972917108595,
          "",
          "",
          "",
          "",
          "",
          "",
          "",
          10.325422203140295,
          78.58695723351623,
          156.97292456511119,
          248.836452894882,
          358.9372996174608,
          494.28454071893964,
          665.6550652490374,
          890.5117995254163,
          1199.0805364825778,
          1648.384146762463,
          2132.3615868711768,
          245.98102799357,
          105.52330198240814,
          10.569643940111192,
          "",
          "",
          "",
          "",
          "",
          "",
          "",
          "",
          "",
          "",
          "",
          "",
          "",
          "",
          "",
          "",
          "",
          "",
          "",
          "",
          "",
          "",
          "",
          "",
          "",
          "",
          "",
          "",
          ""
         ]
        }
       ],
       "layout": {
        "autosize": true,
        "legend": {
         "bgcolor": "#F5F6F9",
         "font": {
          "color": "#4D5663"
         }
        },
        "paper_bgcolor": "#F5F6F9",
        "plot_bgcolor": "#F5F6F9",
        "template": {
         "data": {
          "bar": [
           {
            "error_x": {
             "color": "#2a3f5f"
            },
            "error_y": {
             "color": "#2a3f5f"
            },
            "marker": {
             "line": {
              "color": "#E5ECF6",
              "width": 0.5
             },
             "pattern": {
              "fillmode": "overlay",
              "size": 10,
              "solidity": 0.2
             }
            },
            "type": "bar"
           }
          ],
          "barpolar": [
           {
            "marker": {
             "line": {
              "color": "#E5ECF6",
              "width": 0.5
             },
             "pattern": {
              "fillmode": "overlay",
              "size": 10,
              "solidity": 0.2
             }
            },
            "type": "barpolar"
           }
          ],
          "carpet": [
           {
            "aaxis": {
             "endlinecolor": "#2a3f5f",
             "gridcolor": "white",
             "linecolor": "white",
             "minorgridcolor": "white",
             "startlinecolor": "#2a3f5f"
            },
            "baxis": {
             "endlinecolor": "#2a3f5f",
             "gridcolor": "white",
             "linecolor": "white",
             "minorgridcolor": "white",
             "startlinecolor": "#2a3f5f"
            },
            "type": "carpet"
           }
          ],
          "choropleth": [
           {
            "colorbar": {
             "outlinewidth": 0,
             "ticks": ""
            },
            "type": "choropleth"
           }
          ],
          "contour": [
           {
            "colorbar": {
             "outlinewidth": 0,
             "ticks": ""
            },
            "colorscale": [
             [
              0,
              "#0d0887"
             ],
             [
              0.1111111111111111,
              "#46039f"
             ],
             [
              0.2222222222222222,
              "#7201a8"
             ],
             [
              0.3333333333333333,
              "#9c179e"
             ],
             [
              0.4444444444444444,
              "#bd3786"
             ],
             [
              0.5555555555555556,
              "#d8576b"
             ],
             [
              0.6666666666666666,
              "#ed7953"
             ],
             [
              0.7777777777777778,
              "#fb9f3a"
             ],
             [
              0.8888888888888888,
              "#fdca26"
             ],
             [
              1,
              "#f0f921"
             ]
            ],
            "type": "contour"
           }
          ],
          "contourcarpet": [
           {
            "colorbar": {
             "outlinewidth": 0,
             "ticks": ""
            },
            "type": "contourcarpet"
           }
          ],
          "heatmap": [
           {
            "colorbar": {
             "outlinewidth": 0,
             "ticks": ""
            },
            "colorscale": [
             [
              0,
              "#0d0887"
             ],
             [
              0.1111111111111111,
              "#46039f"
             ],
             [
              0.2222222222222222,
              "#7201a8"
             ],
             [
              0.3333333333333333,
              "#9c179e"
             ],
             [
              0.4444444444444444,
              "#bd3786"
             ],
             [
              0.5555555555555556,
              "#d8576b"
             ],
             [
              0.6666666666666666,
              "#ed7953"
             ],
             [
              0.7777777777777778,
              "#fb9f3a"
             ],
             [
              0.8888888888888888,
              "#fdca26"
             ],
             [
              1,
              "#f0f921"
             ]
            ],
            "type": "heatmap"
           }
          ],
          "heatmapgl": [
           {
            "colorbar": {
             "outlinewidth": 0,
             "ticks": ""
            },
            "colorscale": [
             [
              0,
              "#0d0887"
             ],
             [
              0.1111111111111111,
              "#46039f"
             ],
             [
              0.2222222222222222,
              "#7201a8"
             ],
             [
              0.3333333333333333,
              "#9c179e"
             ],
             [
              0.4444444444444444,
              "#bd3786"
             ],
             [
              0.5555555555555556,
              "#d8576b"
             ],
             [
              0.6666666666666666,
              "#ed7953"
             ],
             [
              0.7777777777777778,
              "#fb9f3a"
             ],
             [
              0.8888888888888888,
              "#fdca26"
             ],
             [
              1,
              "#f0f921"
             ]
            ],
            "type": "heatmapgl"
           }
          ],
          "histogram": [
           {
            "marker": {
             "pattern": {
              "fillmode": "overlay",
              "size": 10,
              "solidity": 0.2
             }
            },
            "type": "histogram"
           }
          ],
          "histogram2d": [
           {
            "colorbar": {
             "outlinewidth": 0,
             "ticks": ""
            },
            "colorscale": [
             [
              0,
              "#0d0887"
             ],
             [
              0.1111111111111111,
              "#46039f"
             ],
             [
              0.2222222222222222,
              "#7201a8"
             ],
             [
              0.3333333333333333,
              "#9c179e"
             ],
             [
              0.4444444444444444,
              "#bd3786"
             ],
             [
              0.5555555555555556,
              "#d8576b"
             ],
             [
              0.6666666666666666,
              "#ed7953"
             ],
             [
              0.7777777777777778,
              "#fb9f3a"
             ],
             [
              0.8888888888888888,
              "#fdca26"
             ],
             [
              1,
              "#f0f921"
             ]
            ],
            "type": "histogram2d"
           }
          ],
          "histogram2dcontour": [
           {
            "colorbar": {
             "outlinewidth": 0,
             "ticks": ""
            },
            "colorscale": [
             [
              0,
              "#0d0887"
             ],
             [
              0.1111111111111111,
              "#46039f"
             ],
             [
              0.2222222222222222,
              "#7201a8"
             ],
             [
              0.3333333333333333,
              "#9c179e"
             ],
             [
              0.4444444444444444,
              "#bd3786"
             ],
             [
              0.5555555555555556,
              "#d8576b"
             ],
             [
              0.6666666666666666,
              "#ed7953"
             ],
             [
              0.7777777777777778,
              "#fb9f3a"
             ],
             [
              0.8888888888888888,
              "#fdca26"
             ],
             [
              1,
              "#f0f921"
             ]
            ],
            "type": "histogram2dcontour"
           }
          ],
          "mesh3d": [
           {
            "colorbar": {
             "outlinewidth": 0,
             "ticks": ""
            },
            "type": "mesh3d"
           }
          ],
          "parcoords": [
           {
            "line": {
             "colorbar": {
              "outlinewidth": 0,
              "ticks": ""
             }
            },
            "type": "parcoords"
           }
          ],
          "pie": [
           {
            "automargin": true,
            "type": "pie"
           }
          ],
          "scatter": [
           {
            "fillpattern": {
             "fillmode": "overlay",
             "size": 10,
             "solidity": 0.2
            },
            "type": "scatter"
           }
          ],
          "scatter3d": [
           {
            "line": {
             "colorbar": {
              "outlinewidth": 0,
              "ticks": ""
             }
            },
            "marker": {
             "colorbar": {
              "outlinewidth": 0,
              "ticks": ""
             }
            },
            "type": "scatter3d"
           }
          ],
          "scattercarpet": [
           {
            "marker": {
             "colorbar": {
              "outlinewidth": 0,
              "ticks": ""
             }
            },
            "type": "scattercarpet"
           }
          ],
          "scattergeo": [
           {
            "marker": {
             "colorbar": {
              "outlinewidth": 0,
              "ticks": ""
             }
            },
            "type": "scattergeo"
           }
          ],
          "scattergl": [
           {
            "marker": {
             "colorbar": {
              "outlinewidth": 0,
              "ticks": ""
             }
            },
            "type": "scattergl"
           }
          ],
          "scattermapbox": [
           {
            "marker": {
             "colorbar": {
              "outlinewidth": 0,
              "ticks": ""
             }
            },
            "type": "scattermapbox"
           }
          ],
          "scatterpolar": [
           {
            "marker": {
             "colorbar": {
              "outlinewidth": 0,
              "ticks": ""
             }
            },
            "type": "scatterpolar"
           }
          ],
          "scatterpolargl": [
           {
            "marker": {
             "colorbar": {
              "outlinewidth": 0,
              "ticks": ""
             }
            },
            "type": "scatterpolargl"
           }
          ],
          "scatterternary": [
           {
            "marker": {
             "colorbar": {
              "outlinewidth": 0,
              "ticks": ""
             }
            },
            "type": "scatterternary"
           }
          ],
          "surface": [
           {
            "colorbar": {
             "outlinewidth": 0,
             "ticks": ""
            },
            "colorscale": [
             [
              0,
              "#0d0887"
             ],
             [
              0.1111111111111111,
              "#46039f"
             ],
             [
              0.2222222222222222,
              "#7201a8"
             ],
             [
              0.3333333333333333,
              "#9c179e"
             ],
             [
              0.4444444444444444,
              "#bd3786"
             ],
             [
              0.5555555555555556,
              "#d8576b"
             ],
             [
              0.6666666666666666,
              "#ed7953"
             ],
             [
              0.7777777777777778,
              "#fb9f3a"
             ],
             [
              0.8888888888888888,
              "#fdca26"
             ],
             [
              1,
              "#f0f921"
             ]
            ],
            "type": "surface"
           }
          ],
          "table": [
           {
            "cells": {
             "fill": {
              "color": "#EBF0F8"
             },
             "line": {
              "color": "white"
             }
            },
            "header": {
             "fill": {
              "color": "#C8D4E3"
             },
             "line": {
              "color": "white"
             }
            },
            "type": "table"
           }
          ]
         },
         "layout": {
          "annotationdefaults": {
           "arrowcolor": "#2a3f5f",
           "arrowhead": 0,
           "arrowwidth": 1
          },
          "autotypenumbers": "strict",
          "coloraxis": {
           "colorbar": {
            "outlinewidth": 0,
            "ticks": ""
           }
          },
          "colorscale": {
           "diverging": [
            [
             0,
             "#8e0152"
            ],
            [
             0.1,
             "#c51b7d"
            ],
            [
             0.2,
             "#de77ae"
            ],
            [
             0.3,
             "#f1b6da"
            ],
            [
             0.4,
             "#fde0ef"
            ],
            [
             0.5,
             "#f7f7f7"
            ],
            [
             0.6,
             "#e6f5d0"
            ],
            [
             0.7,
             "#b8e186"
            ],
            [
             0.8,
             "#7fbc41"
            ],
            [
             0.9,
             "#4d9221"
            ],
            [
             1,
             "#276419"
            ]
           ],
           "sequential": [
            [
             0,
             "#0d0887"
            ],
            [
             0.1111111111111111,
             "#46039f"
            ],
            [
             0.2222222222222222,
             "#7201a8"
            ],
            [
             0.3333333333333333,
             "#9c179e"
            ],
            [
             0.4444444444444444,
             "#bd3786"
            ],
            [
             0.5555555555555556,
             "#d8576b"
            ],
            [
             0.6666666666666666,
             "#ed7953"
            ],
            [
             0.7777777777777778,
             "#fb9f3a"
            ],
            [
             0.8888888888888888,
             "#fdca26"
            ],
            [
             1,
             "#f0f921"
            ]
           ],
           "sequentialminus": [
            [
             0,
             "#0d0887"
            ],
            [
             0.1111111111111111,
             "#46039f"
            ],
            [
             0.2222222222222222,
             "#7201a8"
            ],
            [
             0.3333333333333333,
             "#9c179e"
            ],
            [
             0.4444444444444444,
             "#bd3786"
            ],
            [
             0.5555555555555556,
             "#d8576b"
            ],
            [
             0.6666666666666666,
             "#ed7953"
            ],
            [
             0.7777777777777778,
             "#fb9f3a"
            ],
            [
             0.8888888888888888,
             "#fdca26"
            ],
            [
             1,
             "#f0f921"
            ]
           ]
          },
          "colorway": [
           "#636efa",
           "#EF553B",
           "#00cc96",
           "#ab63fa",
           "#FFA15A",
           "#19d3f3",
           "#FF6692",
           "#B6E880",
           "#FF97FF",
           "#FECB52"
          ],
          "font": {
           "color": "#2a3f5f"
          },
          "geo": {
           "bgcolor": "white",
           "lakecolor": "white",
           "landcolor": "#E5ECF6",
           "showlakes": true,
           "showland": true,
           "subunitcolor": "white"
          },
          "hoverlabel": {
           "align": "left"
          },
          "hovermode": "closest",
          "mapbox": {
           "style": "light"
          },
          "paper_bgcolor": "white",
          "plot_bgcolor": "#E5ECF6",
          "polar": {
           "angularaxis": {
            "gridcolor": "white",
            "linecolor": "white",
            "ticks": ""
           },
           "bgcolor": "#E5ECF6",
           "radialaxis": {
            "gridcolor": "white",
            "linecolor": "white",
            "ticks": ""
           }
          },
          "scene": {
           "xaxis": {
            "backgroundcolor": "#E5ECF6",
            "gridcolor": "white",
            "gridwidth": 2,
            "linecolor": "white",
            "showbackground": true,
            "ticks": "",
            "zerolinecolor": "white"
           },
           "yaxis": {
            "backgroundcolor": "#E5ECF6",
            "gridcolor": "white",
            "gridwidth": 2,
            "linecolor": "white",
            "showbackground": true,
            "ticks": "",
            "zerolinecolor": "white"
           },
           "zaxis": {
            "backgroundcolor": "#E5ECF6",
            "gridcolor": "white",
            "gridwidth": 2,
            "linecolor": "white",
            "showbackground": true,
            "ticks": "",
            "zerolinecolor": "white"
           }
          },
          "shapedefaults": {
           "line": {
            "color": "#2a3f5f"
           }
          },
          "ternary": {
           "aaxis": {
            "gridcolor": "white",
            "linecolor": "white",
            "ticks": ""
           },
           "baxis": {
            "gridcolor": "white",
            "linecolor": "white",
            "ticks": ""
           },
           "bgcolor": "#E5ECF6",
           "caxis": {
            "gridcolor": "white",
            "linecolor": "white",
            "ticks": ""
           }
          },
          "title": {
           "x": 0.05
          },
          "xaxis": {
           "automargin": true,
           "gridcolor": "white",
           "linecolor": "white",
           "ticks": "",
           "title": {
            "standoff": 15
           },
           "zerolinecolor": "white",
           "zerolinewidth": 2
          },
          "yaxis": {
           "automargin": true,
           "gridcolor": "white",
           "linecolor": "white",
           "ticks": "",
           "title": {
            "standoff": 15
           },
           "zerolinecolor": "white",
           "zerolinewidth": 2
          }
         }
        },
        "title": {
         "font": {
          "color": "#4D5663"
         }
        },
        "xaxis": {
         "autorange": true,
         "gridcolor": "#E1E5ED",
         "range": [
          "2020-06-09",
          "2020-06-09 23:45"
         ],
         "showgrid": true,
         "tickfont": {
          "color": "#4D5663"
         },
         "title": {
          "font": {
           "color": "#4D5663"
          },
          "text": ""
         },
         "type": "date",
         "zerolinecolor": "#E1E5ED"
        },
        "yaxis": {
         "autorange": true,
         "gridcolor": "#E1E5ED",
         "range": [
          -118.46453260395427,
          2250.8261194751312
         ],
         "showgrid": true,
         "tickfont": {
          "color": "#4D5663"
         },
         "title": {
          "font": {
           "color": "#4D5663"
          },
          "text": ""
         },
         "type": "linear",
         "zerolinecolor": "#E1E5ED"
        }
       }
      },
      "image/png": "[encoded data removed]",
      "text/html": [
       "<div>                            <div id=\"e412b87a-3694-490f-b953-a28b7ffc1728\" class=\"plotly-graph-div\" style=\"height:525px; width:100%;\"></div>            <script type=\"text/javascript\">                require([\"plotly\"], function(Plotly) {                    window.PLOTLYENV=window.PLOTLYENV || {};\n",
       "                    window.PLOTLYENV.BASE_URL='https://plot.ly';                                    if (document.getElementById(\"e412b87a-3694-490f-b953-a28b7ffc1728\")) {                    Plotly.newPlot(                        \"e412b87a-3694-490f-b953-a28b7ffc1728\",                        [{\"line\":{\"color\":\"rgba(255, 153, 51, 1.0)\",\"dash\":\"solid\",\"shape\":\"linear\",\"width\":1.3},\"mode\":\"lines\",\"name\":\"ghi_forecasted\",\"text\":\"\",\"x\":[\"2020-06-09 00:00:00+02:00\",\"2020-06-09 00:15:00+02:00\",\"2020-06-09 00:30:00+02:00\",\"2020-06-09 00:45:00+02:00\",\"2020-06-09 01:00:00+02:00\",\"2020-06-09 01:15:00+02:00\",\"2020-06-09 01:30:00+02:00\",\"2020-06-09 01:45:00+02:00\",\"2020-06-09 02:00:00+02:00\",\"2020-06-09 02:15:00+02:00\",\"2020-06-09 02:30:00+02:00\",\"2020-06-09 02:45:00+02:00\",\"2020-06-09 03:00:00+02:00\",\"2020-06-09 03:15:00+02:00\",\"2020-06-09 03:30:00+02:00\",\"2020-06-09 03:45:00+02:00\",\"2020-06-09 04:00:00+02:00\",\"2020-06-09 04:15:00+02:00\",\"2020-06-09 04:30:00+02:00\",\"2020-06-09 04:45:00+02:00\",\"2020-06-09 05:00:00+02:00\",\"2020-06-09 05:15:00+02:00\",\"2020-06-09 05:30:00+02:00\",\"2020-06-09 05:45:00+02:00\",\"2020-06-09 06:00:00+02:00\",\"2020-06-09 06:15:00+02:00\",\"2020-06-09 06:30:00+02:00\",\"2020-06-09 06:45:00+02:00\",\"2020-06-09 07:00:00+02:00\",\"2020-06-09 07:15:00+02:00\",\"2020-06-09 07:30:00+02:00\",\"2020-06-09 07:45:00+02:00\",\"2020-06-09 08:00:00+02:00\",\"2020-06-09 08:15:00+02:00\",\"2020-06-09 08:30:00+02:00\",\"2020-06-09 08:45:00+02:00\",\"2020-06-09 09:00:00+02:00\",\"2020-06-09 09:15:00+02:00\",\"2020-06-09 09:30:00+02:00\",\"2020-06-09 09:45:00+02:00\",\"2020-06-09 10:00:00+02:00\",\"2020-06-09 10:15:00+02:00\",\"2020-06-09 10:30:00+02:00\",\"2020-06-09 10:45:00+02:00\",\"2020-06-09 11:00:00+02:00\",\"2020-06-09 11:15:00+02:00\",\"2020-06-09 11:30:00+02:00\",\"2020-06-09 11:45:00+02:00\",\"2020-06-09 12:00:00+02:00\",\"2020-06-09 12:15:00+02:00\",\"2020-06-09 12:30:00+02:00\",\"2020-06-09 12:45:00+02:00\",\"2020-06-09 13:00:00+02:00\",\"2020-06-09 13:15:00+02:00\",\"2020-06-09 13:30:00+02:00\",\"2020-06-09 13:45:00+02:00\",\"2020-06-09 14:00:00+02:00\",\"2020-06-09 14:15:00+02:00\",\"2020-06-09 14:30:00+02:00\",\"2020-06-09 14:45:00+02:00\",\"2020-06-09 15:00:00+02:00\",\"2020-06-09 15:15:00+02:00\",\"2020-06-09 15:30:00+02:00\",\"2020-06-09 15:45:00+02:00\",\"2020-06-09 16:00:00+02:00\",\"2020-06-09 16:15:00+02:00\",\"2020-06-09 16:30:00+02:00\",\"2020-06-09 16:45:00+02:00\",\"2020-06-09 17:00:00+02:00\",\"2020-06-09 17:15:00+02:00\",\"2020-06-09 17:30:00+02:00\",\"2020-06-09 17:45:00+02:00\",\"2020-06-09 18:00:00+02:00\",\"2020-06-09 18:15:00+02:00\",\"2020-06-09 18:30:00+02:00\",\"2020-06-09 18:45:00+02:00\",\"2020-06-09 19:00:00+02:00\",\"2020-06-09 19:15:00+02:00\",\"2020-06-09 19:30:00+02:00\",\"2020-06-09 19:45:00+02:00\",\"2020-06-09 20:00:00+02:00\",\"2020-06-09 20:15:00+02:00\",\"2020-06-09 20:30:00+02:00\",\"2020-06-09 20:45:00+02:00\",\"2020-06-09 21:00:00+02:00\",\"2020-06-09 21:15:00+02:00\",\"2020-06-09 21:30:00+02:00\",\"2020-06-09 21:45:00+02:00\",\"2020-06-09 22:00:00+02:00\",\"2020-06-09 22:15:00+02:00\",\"2020-06-09 22:30:00+02:00\",\"2020-06-09 22:45:00+02:00\",\"2020-06-09 23:00:00+02:00\",\"2020-06-09 23:15:00+02:00\",\"2020-06-09 23:30:00+02:00\",\"2020-06-09 23:45:00+02:00\"],\"y\":[22.5,20.75,19.0,17.416666666666668,15.833333333333334,14.25,12.666666666666666,11.083333333333334,9.5,7.916666666666667,6.333333333333333,4.75,3.1666666666666665,1.5833333333333333,0.0,5.083333333333333,10.166666666666666,15.25,20.333333333333332,25.416666666666668,30.5,35.583333333333336,40.666666666666664,45.75,50.833333333333336,55.916666666666664,61.0,89.25,117.5,145.75,174.0,202.25,230.5,258.75,287.0,315.25,343.5,371.75,400.0,366.6666666666667,333.3333333333333,300.0,266.6666666666667,233.33333333333334,200.0,166.66666666666666,133.33333333333334,100.0,66.66666666666667,33.333333333333336,0.0,42.5,85.0,127.5,170.0,212.5,255.0,297.5,340.0,382.5,425.0,467.5,510.0,504.25,498.5,492.75,487.0,481.25,475.5,469.75,464.0,458.25,452.5,446.75,441.0,407.5833333333333,374.1666666666667,340.75,307.3333333333333,273.9166666666667,240.5,207.08333333333334,173.66666666666666,140.25,106.83333333333333,73.41666666666667,40.0,36.666666666666664,33.333333333333336,30.0,26.666666666666668,23.333333333333332,20.0,16.666666666666668,13.333333333333334,10.0],\"type\":\"scatter\"},{\"line\":{\"color\":\"rgba(55, 128, 191, 1.0)\",\"dash\":\"solid\",\"shape\":\"linear\",\"width\":1.3},\"mode\":\"lines\",\"name\":\"dni_converted\",\"text\":\"\",\"x\":[\"2020-06-09 00:00:00+02:00\",\"2020-06-09 00:15:00+02:00\",\"2020-06-09 00:30:00+02:00\",\"2020-06-09 00:45:00+02:00\",\"2020-06-09 01:00:00+02:00\",\"2020-06-09 01:15:00+02:00\",\"2020-06-09 01:30:00+02:00\",\"2020-06-09 01:45:00+02:00\",\"2020-06-09 02:00:00+02:00\",\"2020-06-09 02:15:00+02:00\",\"2020-06-09 02:30:00+02:00\",\"2020-06-09 02:45:00+02:00\",\"2020-06-09 03:00:00+02:00\",\"2020-06-09 03:15:00+02:00\",\"2020-06-09 03:30:00+02:00\",\"2020-06-09 03:45:00+02:00\",\"2020-06-09 04:00:00+02:00\",\"2020-06-09 04:15:00+02:00\",\"2020-06-09 04:30:00+02:00\",\"2020-06-09 04:45:00+02:00\",\"2020-06-09 05:00:00+02:00\",\"2020-06-09 05:15:00+02:00\",\"2020-06-09 05:30:00+02:00\",\"2020-06-09 05:45:00+02:00\",\"2020-06-09 06:00:00+02:00\",\"2020-06-09 06:15:00+02:00\",\"2020-06-09 06:30:00+02:00\",\"2020-06-09 06:45:00+02:00\",\"2020-06-09 07:00:00+02:00\",\"2020-06-09 07:15:00+02:00\",\"2020-06-09 07:30:00+02:00\",\"2020-06-09 07:45:00+02:00\",\"2020-06-09 08:00:00+02:00\",\"2020-06-09 08:15:00+02:00\",\"2020-06-09 08:30:00+02:00\",\"2020-06-09 08:45:00+02:00\",\"2020-06-09 09:00:00+02:00\",\"2020-06-09 09:15:00+02:00\",\"2020-06-09 09:30:00+02:00\",\"2020-06-09 09:45:00+02:00\",\"2020-06-09 10:00:00+02:00\",\"2020-06-09 10:15:00+02:00\",\"2020-06-09 10:30:00+02:00\",\"2020-06-09 10:45:00+02:00\",\"2020-06-09 11:00:00+02:00\",\"2020-06-09 11:15:00+02:00\",\"2020-06-09 11:30:00+02:00\",\"2020-06-09 11:45:00+02:00\",\"2020-06-09 12:00:00+02:00\",\"2020-06-09 12:15:00+02:00\",\"2020-06-09 12:30:00+02:00\",\"2020-06-09 12:45:00+02:00\",\"2020-06-09 13:00:00+02:00\",\"2020-06-09 13:15:00+02:00\",\"2020-06-09 13:30:00+02:00\",\"2020-06-09 13:45:00+02:00\",\"2020-06-09 14:00:00+02:00\",\"2020-06-09 14:15:00+02:00\",\"2020-06-09 14:30:00+02:00\",\"2020-06-09 14:45:00+02:00\",\"2020-06-09 15:00:00+02:00\",\"2020-06-09 15:15:00+02:00\",\"2020-06-09 15:30:00+02:00\",\"2020-06-09 15:45:00+02:00\",\"2020-06-09 16:00:00+02:00\",\"2020-06-09 16:15:00+02:00\",\"2020-06-09 16:30:00+02:00\",\"2020-06-09 16:45:00+02:00\",\"2020-06-09 17:00:00+02:00\",\"2020-06-09 17:15:00+02:00\",\"2020-06-09 17:30:00+02:00\",\"2020-06-09 17:45:00+02:00\",\"2020-06-09 18:00:00+02:00\",\"2020-06-09 18:15:00+02:00\",\"2020-06-09 18:30:00+02:00\",\"2020-06-09 18:45:00+02:00\",\"2020-06-09 19:00:00+02:00\",\"2020-06-09 19:15:00+02:00\",\"2020-06-09 19:30:00+02:00\",\"2020-06-09 19:45:00+02:00\",\"2020-06-09 20:00:00+02:00\",\"2020-06-09 20:15:00+02:00\",\"2020-06-09 20:30:00+02:00\",\"2020-06-09 20:45:00+02:00\",\"2020-06-09 21:00:00+02:00\",\"2020-06-09 21:15:00+02:00\",\"2020-06-09 21:30:00+02:00\",\"2020-06-09 21:45:00+02:00\",\"2020-06-09 22:00:00+02:00\",\"2020-06-09 22:15:00+02:00\",\"2020-06-09 22:30:00+02:00\",\"2020-06-09 22:45:00+02:00\",\"2020-06-09 23:00:00+02:00\",\"2020-06-09 23:15:00+02:00\",\"2020-06-09 23:30:00+02:00\",\"2020-06-09 23:45:00+02:00\"],\"y\":[\"\",\"\",\"\",\"\",\"\",\"\",\"\",\"\",\"\",\"\",\"\",\"\",\"\",\"\",-0.0,\"\",\"\",\"\",32.5165767106276,13.365925723292024,\"\",\"\",\"\",\"\",\"\",\"\",\"\",\"\",13.349056593759949,48.900124762710355,80.73357432477955,109.80866729787215,136.86130313154007,162.4739115090247,187.12216550218324,211.20735352410972,235.07965569147186,259.05557813968267,283.4316320374957,243.14287021991734,205.0768335935518,168.71644389651533,133.5937413015281,99.27289997584869,65.33521122827761,31.364972917108595,\"\",\"\",\"\",\"\",\"\",\"\",\"\",10.325422203140295,78.58695723351623,156.97292456511119,248.836452894882,358.9372996174608,494.28454071893964,665.6550652490374,890.5117995254163,1199.0805364825778,1648.384146762463,2132.3615868711768,245.98102799357,105.52330198240814,10.569643940111192,\"\",\"\",\"\",\"\",\"\",\"\",\"\",\"\",\"\",\"\",\"\",\"\",\"\",\"\",\"\",\"\",\"\",\"\",\"\",\"\",\"\",\"\",\"\",\"\",\"\",\"\",\"\",\"\",\"\"],\"type\":\"scatter\"}],                        {\"legend\":{\"bgcolor\":\"#F5F6F9\",\"font\":{\"color\":\"#4D5663\"}},\"paper_bgcolor\":\"#F5F6F9\",\"plot_bgcolor\":\"#F5F6F9\",\"template\":{\"data\":{\"barpolar\":[{\"marker\":{\"line\":{\"color\":\"#E5ECF6\",\"width\":0.5},\"pattern\":{\"fillmode\":\"overlay\",\"size\":10,\"solidity\":0.2}},\"type\":\"barpolar\"}],\"bar\":[{\"error_x\":{\"color\":\"#2a3f5f\"},\"error_y\":{\"color\":\"#2a3f5f\"},\"marker\":{\"line\":{\"color\":\"#E5ECF6\",\"width\":0.5},\"pattern\":{\"fillmode\":\"overlay\",\"size\":10,\"solidity\":0.2}},\"type\":\"bar\"}],\"carpet\":[{\"aaxis\":{\"endlinecolor\":\"#2a3f5f\",\"gridcolor\":\"white\",\"linecolor\":\"white\",\"minorgridcolor\":\"white\",\"startlinecolor\":\"#2a3f5f\"},\"baxis\":{\"endlinecolor\":\"#2a3f5f\",\"gridcolor\":\"white\",\"linecolor\":\"white\",\"minorgridcolor\":\"white\",\"startlinecolor\":\"#2a3f5f\"},\"type\":\"carpet\"}],\"choropleth\":[{\"colorbar\":{\"outlinewidth\":0,\"ticks\":\"\"},\"type\":\"choropleth\"}],\"contourcarpet\":[{\"colorbar\":{\"outlinewidth\":0,\"ticks\":\"\"},\"type\":\"contourcarpet\"}],\"contour\":[{\"colorbar\":{\"outlinewidth\":0,\"ticks\":\"\"},\"colorscale\":[[0.0,\"#0d0887\"],[0.1111111111111111,\"#46039f\"],[0.2222222222222222,\"#7201a8\"],[0.3333333333333333,\"#9c179e\"],[0.4444444444444444,\"#bd3786\"],[0.5555555555555556,\"#d8576b\"],[0.6666666666666666,\"#ed7953\"],[0.7777777777777778,\"#fb9f3a\"],[0.8888888888888888,\"#fdca26\"],[1.0,\"#f0f921\"]],\"type\":\"contour\"}],\"heatmapgl\":[{\"colorbar\":{\"outlinewidth\":0,\"ticks\":\"\"},\"colorscale\":[[0.0,\"#0d0887\"],[0.1111111111111111,\"#46039f\"],[0.2222222222222222,\"#7201a8\"],[0.3333333333333333,\"#9c179e\"],[0.4444444444444444,\"#bd3786\"],[0.5555555555555556,\"#d8576b\"],[0.6666666666666666,\"#ed7953\"],[0.7777777777777778,\"#fb9f3a\"],[0.8888888888888888,\"#fdca26\"],[1.0,\"#f0f921\"]],\"type\":\"heatmapgl\"}],\"heatmap\":[{\"colorbar\":{\"outlinewidth\":0,\"ticks\":\"\"},\"colorscale\":[[0.0,\"#0d0887\"],[0.1111111111111111,\"#46039f\"],[0.2222222222222222,\"#7201a8\"],[0.3333333333333333,\"#9c179e\"],[0.4444444444444444,\"#bd3786\"],[0.5555555555555556,\"#d8576b\"],[0.6666666666666666,\"#ed7953\"],[0.7777777777777778,\"#fb9f3a\"],[0.8888888888888888,\"#fdca26\"],[1.0,\"#f0f921\"]],\"type\":\"heatmap\"}],\"histogram2dcontour\":[{\"colorbar\":{\"outlinewidth\":0,\"ticks\":\"\"},\"colorscale\":[[0.0,\"#0d0887\"],[0.1111111111111111,\"#46039f\"],[0.2222222222222222,\"#7201a8\"],[0.3333333333333333,\"#9c179e\"],[0.4444444444444444,\"#bd3786\"],[0.5555555555555556,\"#d8576b\"],[0.6666666666666666,\"#ed7953\"],[0.7777777777777778,\"#fb9f3a\"],[0.8888888888888888,\"#fdca26\"],[1.0,\"#f0f921\"]],\"type\":\"histogram2dcontour\"}],\"histogram2d\":[{\"colorbar\":{\"outlinewidth\":0,\"ticks\":\"\"},\"colorscale\":[[0.0,\"#0d0887\"],[0.1111111111111111,\"#46039f\"],[0.2222222222222222,\"#7201a8\"],[0.3333333333333333,\"#9c179e\"],[0.4444444444444444,\"#bd3786\"],[0.5555555555555556,\"#d8576b\"],[0.6666666666666666,\"#ed7953\"],[0.7777777777777778,\"#fb9f3a\"],[0.8888888888888888,\"#fdca26\"],[1.0,\"#f0f921\"]],\"type\":\"histogram2d\"}],\"histogram\":[{\"marker\":{\"pattern\":{\"fillmode\":\"overlay\",\"size\":10,\"solidity\":0.2}},\"type\":\"histogram\"}],\"mesh3d\":[{\"colorbar\":{\"outlinewidth\":0,\"ticks\":\"\"},\"type\":\"mesh3d\"}],\"parcoords\":[{\"line\":{\"colorbar\":{\"outlinewidth\":0,\"ticks\":\"\"}},\"type\":\"parcoords\"}],\"pie\":[{\"automargin\":true,\"type\":\"pie\"}],\"scatter3d\":[{\"line\":{\"colorbar\":{\"outlinewidth\":0,\"ticks\":\"\"}},\"marker\":{\"colorbar\":{\"outlinewidth\":0,\"ticks\":\"\"}},\"type\":\"scatter3d\"}],\"scattercarpet\":[{\"marker\":{\"colorbar\":{\"outlinewidth\":0,\"ticks\":\"\"}},\"type\":\"scattercarpet\"}],\"scattergeo\":[{\"marker\":{\"colorbar\":{\"outlinewidth\":0,\"ticks\":\"\"}},\"type\":\"scattergeo\"}],\"scattergl\":[{\"marker\":{\"colorbar\":{\"outlinewidth\":0,\"ticks\":\"\"}},\"type\":\"scattergl\"}],\"scattermapbox\":[{\"marker\":{\"colorbar\":{\"outlinewidth\":0,\"ticks\":\"\"}},\"type\":\"scattermapbox\"}],\"scatterpolargl\":[{\"marker\":{\"colorbar\":{\"outlinewidth\":0,\"ticks\":\"\"}},\"type\":\"scatterpolargl\"}],\"scatterpolar\":[{\"marker\":{\"colorbar\":{\"outlinewidth\":0,\"ticks\":\"\"}},\"type\":\"scatterpolar\"}],\"scatter\":[{\"fillpattern\":{\"fillmode\":\"overlay\",\"size\":10,\"solidity\":0.2},\"type\":\"scatter\"}],\"scatterternary\":[{\"marker\":{\"colorbar\":{\"outlinewidth\":0,\"ticks\":\"\"}},\"type\":\"scatterternary\"}],\"surface\":[{\"colorbar\":{\"outlinewidth\":0,\"ticks\":\"\"},\"colorscale\":[[0.0,\"#0d0887\"],[0.1111111111111111,\"#46039f\"],[0.2222222222222222,\"#7201a8\"],[0.3333333333333333,\"#9c179e\"],[0.4444444444444444,\"#bd3786\"],[0.5555555555555556,\"#d8576b\"],[0.6666666666666666,\"#ed7953\"],[0.7777777777777778,\"#fb9f3a\"],[0.8888888888888888,\"#fdca26\"],[1.0,\"#f0f921\"]],\"type\":\"surface\"}],\"table\":[{\"cells\":{\"fill\":{\"color\":\"#EBF0F8\"},\"line\":{\"color\":\"white\"}},\"header\":{\"fill\":{\"color\":\"#C8D4E3\"},\"line\":{\"color\":\"white\"}},\"type\":\"table\"}]},\"layout\":{\"annotationdefaults\":{\"arrowcolor\":\"#2a3f5f\",\"arrowhead\":0,\"arrowwidth\":1},\"autotypenumbers\":\"strict\",\"coloraxis\":{\"colorbar\":{\"outlinewidth\":0,\"ticks\":\"\"}},\"colorscale\":{\"diverging\":[[0,\"#8e0152\"],[0.1,\"#c51b7d\"],[0.2,\"#de77ae\"],[0.3,\"#f1b6da\"],[0.4,\"#fde0ef\"],[0.5,\"#f7f7f7\"],[0.6,\"#e6f5d0\"],[0.7,\"#b8e186\"],[0.8,\"#7fbc41\"],[0.9,\"#4d9221\"],[1,\"#276419\"]],\"sequential\":[[0.0,\"#0d0887\"],[0.1111111111111111,\"#46039f\"],[0.2222222222222222,\"#7201a8\"],[0.3333333333333333,\"#9c179e\"],[0.4444444444444444,\"#bd3786\"],[0.5555555555555556,\"#d8576b\"],[0.6666666666666666,\"#ed7953\"],[0.7777777777777778,\"#fb9f3a\"],[0.8888888888888888,\"#fdca26\"],[1.0,\"#f0f921\"]],\"sequentialminus\":[[0.0,\"#0d0887\"],[0.1111111111111111,\"#46039f\"],[0.2222222222222222,\"#7201a8\"],[0.3333333333333333,\"#9c179e\"],[0.4444444444444444,\"#bd3786\"],[0.5555555555555556,\"#d8576b\"],[0.6666666666666666,\"#ed7953\"],[0.7777777777777778,\"#fb9f3a\"],[0.8888888888888888,\"#fdca26\"],[1.0,\"#f0f921\"]]},\"colorway\":[\"#636efa\",\"#EF553B\",\"#00cc96\",\"#ab63fa\",\"#FFA15A\",\"#19d3f3\",\"#FF6692\",\"#B6E880\",\"#FF97FF\",\"#FECB52\"],\"font\":{\"color\":\"#2a3f5f\"},\"geo\":{\"bgcolor\":\"white\",\"lakecolor\":\"white\",\"landcolor\":\"#E5ECF6\",\"showlakes\":true,\"showland\":true,\"subunitcolor\":\"white\"},\"hoverlabel\":{\"align\":\"left\"},\"hovermode\":\"closest\",\"mapbox\":{\"style\":\"light\"},\"paper_bgcolor\":\"white\",\"plot_bgcolor\":\"#E5ECF6\",\"polar\":{\"angularaxis\":{\"gridcolor\":\"white\",\"linecolor\":\"white\",\"ticks\":\"\"},\"bgcolor\":\"#E5ECF6\",\"radialaxis\":{\"gridcolor\":\"white\",\"linecolor\":\"white\",\"ticks\":\"\"}},\"scene\":{\"xaxis\":{\"backgroundcolor\":\"#E5ECF6\",\"gridcolor\":\"white\",\"gridwidth\":2,\"linecolor\":\"white\",\"showbackground\":true,\"ticks\":\"\",\"zerolinecolor\":\"white\"},\"yaxis\":{\"backgroundcolor\":\"#E5ECF6\",\"gridcolor\":\"white\",\"gridwidth\":2,\"linecolor\":\"white\",\"showbackground\":true,\"ticks\":\"\",\"zerolinecolor\":\"white\"},\"zaxis\":{\"backgroundcolor\":\"#E5ECF6\",\"gridcolor\":\"white\",\"gridwidth\":2,\"linecolor\":\"white\",\"showbackground\":true,\"ticks\":\"\",\"zerolinecolor\":\"white\"}},\"shapedefaults\":{\"line\":{\"color\":\"#2a3f5f\"}},\"ternary\":{\"aaxis\":{\"gridcolor\":\"white\",\"linecolor\":\"white\",\"ticks\":\"\"},\"baxis\":{\"gridcolor\":\"white\",\"linecolor\":\"white\",\"ticks\":\"\"},\"bgcolor\":\"#E5ECF6\",\"caxis\":{\"gridcolor\":\"white\",\"linecolor\":\"white\",\"ticks\":\"\"}},\"title\":{\"x\":0.05},\"xaxis\":{\"automargin\":true,\"gridcolor\":\"white\",\"linecolor\":\"white\",\"ticks\":\"\",\"title\":{\"standoff\":15},\"zerolinecolor\":\"white\",\"zerolinewidth\":2},\"yaxis\":{\"automargin\":true,\"gridcolor\":\"white\",\"linecolor\":\"white\",\"ticks\":\"\",\"title\":{\"standoff\":15},\"zerolinecolor\":\"white\",\"zerolinewidth\":2}}},\"title\":{\"font\":{\"color\":\"#4D5663\"}},\"xaxis\":{\"gridcolor\":\"#E1E5ED\",\"showgrid\":true,\"tickfont\":{\"color\":\"#4D5663\"},\"title\":{\"font\":{\"color\":\"#4D5663\"},\"text\":\"\"},\"zerolinecolor\":\"#E1E5ED\"},\"yaxis\":{\"gridcolor\":\"#E1E5ED\",\"showgrid\":true,\"tickfont\":{\"color\":\"#4D5663\"},\"title\":{\"font\":{\"color\":\"#4D5663\"},\"text\":\"\"},\"zerolinecolor\":\"#E1E5ED\"}},                        {\"showLink\": true, \"linkText\": \"Export to plot.ly\", \"plotlyServerURL\": \"https://plot.ly\", \"responsive\": true}                    ).then(function(){\n",
       "                            \n",
       "var gd = document.getElementById('e412b87a-3694-490f-b953-a28b7ffc1728');\n",
       "var x = new MutationObserver(function (mutations, observer) {{\n",
       "        var display = window.getComputedStyle(gd).display;\n",
       "        if (!display || display === 'none') {{\n",
       "            console.log([gd, 'removed!']);\n",
       "            Plotly.purge(gd);\n",
       "            observer.disconnect();\n",
       "        }}\n",
       "}});\n",
       "\n",
       "// Listen for the removal of the full notebook cells\n",
       "var notebookContainer = gd.closest('#notebook-container');\n",
       "if (notebookContainer) {{\n",
       "    x.observe(notebookContainer, {childList: true});\n",
       "}}\n",
       "\n",
       "// Listen for the clearing of the current output cell\n",
       "var outputEl = gd.closest('.output');\n",
       "if (outputEl) {{\n",
       "    x.observe(outputEl, {childList: true});\n",
       "}}\n",
       "\n",
       "                        })                };                });            </script>        </div>"
      ]
     },
     "metadata": {},
     "output_type": "display_data"
    }
   ],
   "source": [
    "# Plotting the dni compared to ghi_forcasted\n",
    "radiation['dni_converted'] = dni_converted\n",
    "radiation.iplot()"
   ]
  },
  {
   "cell_type": "markdown",
   "id": "a52f0dde-d65f-4b51-a515-50c2d2fbd386",
   "metadata": {},
   "source": [
    "## Script to calculate the GlobalTiltIrradiance\n"
   ]
  },
  {
   "cell_type": "code",
   "execution_count": 1,
   "id": "25f2d975-ff7e-4285-bb3f-b44dadedfc0d",
   "metadata": {},
   "outputs": [],
   "source": [
    "None"
   ]
  }
 ],
 "metadata": {
  "kernelspec": {
   "display_name": "Python 3 (ipykernel)",
   "language": "python",
   "name": "python3"
  },
  "language_info": {
   "codemirror_mode": {
    "name": "ipython",
    "version": 3
   },
   "file_extension": ".py",
   "mimetype": "text/x-python",
   "name": "python",
   "nbconvert_exporter": "python",
   "pygments_lexer": "ipython3",
   "version": "3.9.12"
  }
 },
 "nbformat": 4,
 "nbformat_minor": 5
}
